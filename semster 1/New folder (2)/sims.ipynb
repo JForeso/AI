{
 "cells": [
  {
   "cell_type": "code",
   "execution_count": 18,
   "id": "0da3c9d1",
   "metadata": {},
   "outputs": [
    {
     "ename": "SyntaxError",
     "evalue": "invalid syntax (2035232573.py, line 14)",
     "output_type": "error",
     "traceback": [
      "\u001b[1;36m  File \u001b[1;32m\"C:\\Users\\jforesoii\\AppData\\Local\\Temp\\ipykernel_16448\\2035232573.py\"\u001b[1;36m, line \u001b[1;32m14\u001b[0m\n\u001b[1;33m    if randrange = 0:\u001b[0m\n\u001b[1;37m                 ^\u001b[0m\n\u001b[1;31mSyntaxError\u001b[0m\u001b[1;31m:\u001b[0m invalid syntax\n"
     ]
    }
   ],
   "source": []
  },
  {
   "cell_type": "code",
   "execution_count": 31,
   "id": "d5fb2335",
   "metadata": {},
   "outputs": [
    {
     "name": "stdout",
     "output_type": "stream",
     "text": [
      "1\n"
     ]
    }
   ],
   "source": []
  },
  {
   "cell_type": "code",
   "execution_count": 38,
   "id": "5356d076",
   "metadata": {},
   "outputs": [
    {
     "name": "stdout",
     "output_type": "stream",
     "text": [
      "26\n"
     ]
    }
   ],
   "source": [
    "import random\n",
    "\n",
    "b1 = 0\n",
    "b2 = 0\n",
    "b3 = 0\n",
    "b4 = 0\n",
    "b5 = 0\n",
    "b6 = 0\n",
    "b7 = 0\n",
    "b8 = 0\n",
    "b9 = 0\n",
    "b10 = 0\n",
    "count = 0\n",
    "\n",
    "while b1 < 1 or b2 < 1 or b3 < 1 or b4 < 1 or b5 < 1 or b6 < 1 or b7 < 1 or b8 < 1 or b9 < 1 or b10 < 1:\n",
    "    count += 1\n",
    "    randrange = random.randint(0, 9)\n",
    "    \n",
    "    if randrange == 0:\n",
    "        b1 += 1\n",
    "    elif randrange == 1:\n",
    "        b2 += 1\n",
    "    elif randrange == 2:\n",
    "        b3 += 1\n",
    "    elif randrange == 3:\n",
    "        b4 += 1\n",
    "    elif randrange == 4:\n",
    "        b5 += 1\n",
    "    elif randrange == 5:\n",
    "        b6 += 1\n",
    "    elif randrange == 6:\n",
    "        b7 += 1\n",
    "    elif randrange == 7:\n",
    "        b8 += 1\n",
    "    elif randrange == 8:\n",
    "        b9 += 1\n",
    "    elif randrange == 9:\n",
    "        b10 += 1\n",
    "    \n",
    "\n",
    "\n",
    "print(count)"
   ]
  },
  {
   "cell_type": "code",
   "execution_count": null,
   "id": "15160e4e",
   "metadata": {},
   "outputs": [],
   "source": []
  }
 ],
 "metadata": {
  "kernelspec": {
   "display_name": "Python 3 (ipykernel)",
   "language": "python",
   "name": "python3"
  },
  "language_info": {
   "codemirror_mode": {
    "name": "ipython",
    "version": 3
   },
   "file_extension": ".py",
   "mimetype": "text/x-python",
   "name": "python",
   "nbconvert_exporter": "python",
   "pygments_lexer": "ipython3",
   "version": "3.9.13"
  }
 },
 "nbformat": 4,
 "nbformat_minor": 5
}

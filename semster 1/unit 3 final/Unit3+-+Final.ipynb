{
 "cells": [
  {
   "cell_type": "markdown",
   "id": "9919c268",
   "metadata": {},
   "source": [
    "# Choose a Data Set\n",
    "\n",
    "Create your own dataset by scraping one of the following websites *(level 5)*:\n",
    "- [Wikipedia](https://www.wikipedia.org/)\n",
    "- [OpenLibrary](https://openlibrary.org/)\n",
    "\n",
    "**OR** \n",
    "\n",
    "Use data gathered from one of the following APIs *(level 4)*: \n",
    "- [TMDB](https://developer.themoviedb.org/reference/intro/getting-started)\n",
    "- [College Scorecard](https://collegescorecard.ed.gov/data/api-documentation/)\n",
    "\n",
    "**OR** \n",
    "\n",
    "Pick a JSON dataset *(level 3)*:\n",
    "- [Food/Restaurant Data](https://drive.google.com/drive/folders/1V94S6WpclvQmbnW88KVMD4EruryA1oma?usp=drive_link)\n",
    "- [Fashion Data](https://drive.google.com/drive/folders/1V8SbFjtRRW8WVf3xBzg0gzLjOtMhHea_?usp=drive_link)\n",
    "\n",
    "**OR** \n",
    "\n",
    "Pick a CSV dataset *(level 2)*:\n",
    "- [LA Parking Tickets](https://drive.google.com/drive/folders/1vaOfwMi6QmZEGsXr8VM0ulPGzvTTBCgm?usp=drive_link)\n",
    "- [Hotels](https://drive.google.com/drive/folders/1IpVFxgwBJvJHKoOuBsk6WK2qYqFYP4hi?usp=drive_link)"
   ]
  },
  {
   "cell_type": "markdown",
   "id": "ae147ea6",
   "metadata": {},
   "source": [
    "# My Question\n",
    "### what is the likely hood of grabing a fiction book with the word mystery in "
   ]
  },
  {
   "cell_type": "code",
   "execution_count": 1,
   "id": "3d578efe",
   "metadata": {},
   "outputs": [],
   "source": [
    "import pandas as pd\n",
    "import requests\n",
    "from bs4 import BeautifulSoup\n",
    "import random"
   ]
  },
  {
   "cell_type": "code",
   "execution_count": 2,
   "id": "03586a4f",
   "metadata": {},
   "outputs": [],
   "source": [
    "to = []\n",
    "ti=[]"
   ]
  },
  {
   "cell_type": "code",
   "execution_count": 4,
   "id": "c0ef3c24",
   "metadata": {
    "scrolled": true
   },
   "outputs": [],
   "source": [
    "total_page = 1\n",
    "count=0\n",
    "for page in range(1, 20):\n",
    "    url = f\"https://openlibrary.org/search?subject=Fiction&page={page}\"\n",
    "    response = requests.get(url)\n",
    "    soup = BeautifulSoup(response.content, \"html.parser\")\n",
    "    to.append(soup)\n",
    "    ##code to get all the pages##"
   ]
  },
  {
   "cell_type": "code",
   "execution_count": 5,
   "id": "9be73591",
   "metadata": {},
   "outputs": [],
   "source": [
    "for soup in to:\n",
    "    titles = soup.find_all('h3')\n",
    "    for title in titles:\n",
    "        ti.append(title.get_text(strip=True))\n",
    "        ##code to get just the h3 values then strip it so it perrdy##"
   ]
  },
  {
   "cell_type": "code",
   "execution_count": 6,
   "id": "48570cd2",
   "metadata": {},
   "outputs": [],
   "source": [
    "##turning into a dataframe\n",
    "df = pd.DataFrame(ti, columns=['Title'])"
   ]
  },
  {
   "cell_type": "code",
   "execution_count": 7,
   "id": "aed8ceac",
   "metadata": {},
   "outputs": [
    {
     "data": {
      "text/html": [
       "<div>\n",
       "<style scoped>\n",
       "    .dataframe tbody tr th:only-of-type {\n",
       "        vertical-align: middle;\n",
       "    }\n",
       "\n",
       "    .dataframe tbody tr th {\n",
       "        vertical-align: top;\n",
       "    }\n",
       "\n",
       "    .dataframe thead th {\n",
       "        text-align: right;\n",
       "    }\n",
       "</style>\n",
       "<table border=\"1\" class=\"dataframe\">\n",
       "  <thead>\n",
       "    <tr style=\"text-align: right;\">\n",
       "      <th></th>\n",
       "      <th>Title</th>\n",
       "    </tr>\n",
       "  </thead>\n",
       "  <tbody>\n",
       "    <tr>\n",
       "      <th>0</th>\n",
       "      <td>The Iron Heel</td>\n",
       "    </tr>\n",
       "    <tr>\n",
       "      <th>1</th>\n",
       "      <td>Lilith: A Romance</td>\n",
       "    </tr>\n",
       "    <tr>\n",
       "      <th>2</th>\n",
       "      <td>Anthem</td>\n",
       "    </tr>\n",
       "    <tr>\n",
       "      <th>3</th>\n",
       "      <td>The Enchanted Castle</td>\n",
       "    </tr>\n",
       "    <tr>\n",
       "      <th>4</th>\n",
       "      <td>Pollyanna</td>\n",
       "    </tr>\n",
       "    <tr>\n",
       "      <th>...</th>\n",
       "      <td>...</td>\n",
       "    </tr>\n",
       "    <tr>\n",
       "      <th>1843</th>\n",
       "      <td>Common sense: addressed to the inhabitants of ...</td>\n",
       "    </tr>\n",
       "    <tr>\n",
       "      <th>1844</th>\n",
       "      <td>The Prophet</td>\n",
       "    </tr>\n",
       "    <tr>\n",
       "      <th>1845</th>\n",
       "      <td>Antony &amp; Cleopatra</td>\n",
       "    </tr>\n",
       "    <tr>\n",
       "      <th>1846</th>\n",
       "      <td>Macbeth</td>\n",
       "    </tr>\n",
       "    <tr>\n",
       "      <th>1847</th>\n",
       "      <td>Zoom In</td>\n",
       "    </tr>\n",
       "  </tbody>\n",
       "</table>\n",
       "<p>1848 rows × 1 columns</p>\n",
       "</div>"
      ],
      "text/plain": [
       "                                                  Title\n",
       "0                                         The Iron Heel\n",
       "1                                     Lilith: A Romance\n",
       "2                                                Anthem\n",
       "3                                  The Enchanted Castle\n",
       "4                                             Pollyanna\n",
       "...                                                 ...\n",
       "1843  Common sense: addressed to the inhabitants of ...\n",
       "1844                                        The Prophet\n",
       "1845                                 Antony & Cleopatra\n",
       "1846                                            Macbeth\n",
       "1847                                            Zoom In\n",
       "\n",
       "[1848 rows x 1 columns]"
      ]
     },
     "execution_count": 7,
     "metadata": {},
     "output_type": "execute_result"
    }
   ],
   "source": [
    "df"
   ]
  },
  {
   "cell_type": "code",
   "execution_count": 14,
   "id": "171bdfc3",
   "metadata": {},
   "outputs": [
    {
     "data": {
      "text/plain": [
       "0.7799999999999999"
      ]
     },
     "execution_count": 14,
     "metadata": {},
     "output_type": "execute_result"
    }
   ],
   "source": [
    "##getting the emperical of pulling a book with mystery in it \n",
    "book =0\n",
    "myst =0\n",
    "trial =10000\n",
    "count =0\n",
    "while count < trial:\n",
    "    randrange = random.randint(1, 1848)\n",
    "    if randrange <1836:\n",
    "        book +=1\n",
    "    else:\n",
    "        myst +=1\n",
    "    count +=1\n",
    "(myst/trial)*100"
   ]
  },
  {
   "cell_type": "code",
   "execution_count": 10,
   "id": "b8713774",
   "metadata": {},
   "outputs": [
    {
     "data": {
      "text/html": [
       "<div>\n",
       "<style scoped>\n",
       "    .dataframe tbody tr th:only-of-type {\n",
       "        vertical-align: middle;\n",
       "    }\n",
       "\n",
       "    .dataframe tbody tr th {\n",
       "        vertical-align: top;\n",
       "    }\n",
       "\n",
       "    .dataframe thead th {\n",
       "        text-align: right;\n",
       "    }\n",
       "</style>\n",
       "<table border=\"1\" class=\"dataframe\">\n",
       "  <thead>\n",
       "    <tr style=\"text-align: right;\">\n",
       "      <th></th>\n",
       "      <th>Title</th>\n",
       "    </tr>\n",
       "  </thead>\n",
       "  <tbody>\n",
       "    <tr>\n",
       "      <th>18</th>\n",
       "      <td>The Mystery of the Blue Train</td>\n",
       "    </tr>\n",
       "    <tr>\n",
       "      <th>91</th>\n",
       "      <td>Curtain : Poirot's Last Case: A Hercule Poirot...</td>\n",
       "    </tr>\n",
       "    <tr>\n",
       "      <th>268</th>\n",
       "      <td>A Caribbean Mystery</td>\n",
       "    </tr>\n",
       "    <tr>\n",
       "      <th>574</th>\n",
       "      <td>The seven dials mystery</td>\n",
       "    </tr>\n",
       "    <tr>\n",
       "      <th>644</th>\n",
       "      <td>The Red House Mystery</td>\n",
       "    </tr>\n",
       "    <tr>\n",
       "      <th>743</th>\n",
       "      <td>The Haunted Hotel: A Mystery of Modern Venice</td>\n",
       "    </tr>\n",
       "    <tr>\n",
       "      <th>823</th>\n",
       "      <td>Tales of Terror and Mystery</td>\n",
       "    </tr>\n",
       "    <tr>\n",
       "      <th>1135</th>\n",
       "      <td>Bunnicula: A Rabbit Tale of Mystery</td>\n",
       "    </tr>\n",
       "    <tr>\n",
       "      <th>1376</th>\n",
       "      <td>The Mystery of the Yellow Room: Extraordinary ...</td>\n",
       "    </tr>\n",
       "    <tr>\n",
       "      <th>1467</th>\n",
       "      <td>The Mystery of the Blue Train</td>\n",
       "    </tr>\n",
       "    <tr>\n",
       "      <th>1540</th>\n",
       "      <td>Curtain : Poirot's Last Case: A Hercule Poirot...</td>\n",
       "    </tr>\n",
       "    <tr>\n",
       "      <th>1717</th>\n",
       "      <td>A Caribbean Mystery</td>\n",
       "    </tr>\n",
       "  </tbody>\n",
       "</table>\n",
       "</div>"
      ],
      "text/plain": [
       "                                                  Title\n",
       "18                        The Mystery of the Blue Train\n",
       "91    Curtain : Poirot's Last Case: A Hercule Poirot...\n",
       "268                                 A Caribbean Mystery\n",
       "574                             The seven dials mystery\n",
       "644                               The Red House Mystery\n",
       "743       The Haunted Hotel: A Mystery of Modern Venice\n",
       "823                         Tales of Terror and Mystery\n",
       "1135                Bunnicula: A Rabbit Tale of Mystery\n",
       "1376  The Mystery of the Yellow Room: Extraordinary ...\n",
       "1467                      The Mystery of the Blue Train\n",
       "1540  Curtain : Poirot's Last Case: A Hercule Poirot...\n",
       "1717                                A Caribbean Mystery"
      ]
     },
     "execution_count": 10,
     "metadata": {},
     "output_type": "execute_result"
    }
   ],
   "source": [
    "df[df['Title'].str.contains('Mystery', case=False, na=False)]\n",
    "##finding all books with mystery in the title"
   ]
  },
  {
   "cell_type": "code",
   "execution_count": 19,
   "id": "afb127a6",
   "metadata": {},
   "outputs": [
    {
     "data": {
      "text/plain": [
       "-81.52000000000001"
      ]
     },
     "execution_count": 19,
     "metadata": {},
     "output_type": "execute_result"
    }
   ],
   "source": []
  },
  {
   "cell_type": "code",
   "execution_count": null,
   "id": "a2812438",
   "metadata": {},
   "outputs": [],
   "source": []
  },
  {
   "cell_type": "code",
   "execution_count": null,
   "id": "dca274b4",
   "metadata": {},
   "outputs": [],
   "source": []
  },
  {
   "cell_type": "markdown",
   "id": "149f324f",
   "metadata": {},
   "source": [
    "# My Answer"
   ]
  },
  {
   "cell_type": "markdown",
   "id": "926a3e9f",
   "metadata": {},
   "source": [
    "if there are 1848 fiction books in a libary there is a 0.7% chance that a book you grab will have the word mystery in the title "
   ]
  },
  {
   "cell_type": "markdown",
   "id": "a8bc8bcb",
   "metadata": {},
   "source": [
    "***Describe analysis here.***"
   ]
  },
  {
   "cell_type": "code",
   "execution_count": null,
   "id": "69c67502",
   "metadata": {},
   "outputs": [],
   "source": [
    "# Alternate between code for analysis and markdown descriptions of your analysis\n",
    "# Add more code or markdown cells if needed to fully explain analysis"
   ]
  },
  {
   "cell_type": "markdown",
   "id": "4d93cfe1",
   "metadata": {},
   "source": [
    "***Describe analysis here.***"
   ]
  },
  {
   "cell_type": "code",
   "execution_count": null,
   "id": "94e3fabf",
   "metadata": {},
   "outputs": [],
   "source": [
    "# Add more code/markdown cells here if you need them."
   ]
  }
 ],
 "metadata": {
  "kernelspec": {
   "display_name": "Python 3 (ipykernel)",
   "language": "python",
   "name": "python3"
  },
  "language_info": {
   "codemirror_mode": {
    "name": "ipython",
    "version": 3
   },
   "file_extension": ".py",
   "mimetype": "text/x-python",
   "name": "python",
   "nbconvert_exporter": "python",
   "pygments_lexer": "ipython3",
   "version": "3.9.13"
  }
 },
 "nbformat": 4,
 "nbformat_minor": 5
}

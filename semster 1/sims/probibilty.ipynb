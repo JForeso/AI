{
 "cells": [
  {
   "cell_type": "code",
   "execution_count": 2,
   "id": "0f75d0dd",
   "metadata": {},
   "outputs": [],
   "source": [
    "import random"
   ]
  },
  {
   "cell_type": "markdown",
   "id": "8a728d34",
   "metadata": {},
   "source": [
    "theoretily it is a 16.7% chance you get a hot one first try "
   ]
  },
  {
   "cell_type": "code",
   "execution_count": 11,
   "id": "7be4fba1",
   "metadata": {},
   "outputs": [
    {
     "data": {
      "text/plain": [
       "16.743"
      ]
     },
     "execution_count": 11,
     "metadata": {},
     "output_type": "execute_result"
    }
   ],
   "source": [
    "hot =0\n",
    "norm =0\n",
    "trial =100000\n",
    "count =0\n",
    "while count < trial:\n",
    "    randrange = random.randint(1, 6)\n",
    "    if randrange !=6:\n",
    "        norm +=1\n",
    "    else:\n",
    "        hot +=1\n",
    "    count +=1\n",
    "(hot/trial)*100"
   ]
  },
  {
   "cell_type": "code",
   "execution_count": 9,
   "id": "fb8693e5",
   "metadata": {},
   "outputs": [
    {
     "data": {
      "text/plain": [
       "18.0"
      ]
     },
     "execution_count": 9,
     "metadata": {},
     "output_type": "execute_result"
    }
   ],
   "source": [
    "card =0\n",
    "qk =0\n",
    "trial =1000\n",
    "count =0\n",
    "while count < trial:\n",
    "    randrange = random.randint(1, 52)\n",
    "    if randrange <44:\n",
    "        card +=1\n",
    "    else:\n",
    "        qk +=1\n",
    "    count +=1\n",
    "(qk/trial)*100"
   ]
  },
  {
   "cell_type": "code",
   "execution_count": null,
   "id": "71764cb9",
   "metadata": {},
   "outputs": [],
   "source": []
  }
 ],
 "metadata": {
  "kernelspec": {
   "display_name": "Python 3 (ipykernel)",
   "language": "python",
   "name": "python3"
  },
  "language_info": {
   "codemirror_mode": {
    "name": "ipython",
    "version": 3
   },
   "file_extension": ".py",
   "mimetype": "text/x-python",
   "name": "python",
   "nbconvert_exporter": "python",
   "pygments_lexer": "ipython3",
   "version": "3.9.13"
  }
 },
 "nbformat": 4,
 "nbformat_minor": 5
}

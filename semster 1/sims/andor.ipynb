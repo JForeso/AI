{
 "cells": [
  {
   "cell_type": "code",
   "execution_count": 1,
   "id": "5bae1284",
   "metadata": {},
   "outputs": [],
   "source": [
    "import random"
   ]
  },
  {
   "cell_type": "code",
   "execution_count": 39,
   "id": "9d239ac3",
   "metadata": {},
   "outputs": [
    {
     "data": {
      "text/plain": [
       "14.200000000000001"
      ]
     },
     "execution_count": 39,
     "metadata": {},
     "output_type": "execute_result"
    }
   ],
   "source": [
    "opos=35\n",
    "oneg=0\n",
    "apos=30\n",
    "aneg=8\n",
    "bpos=8\n",
    "bneg=2\n",
    "abpos=2\n",
    "abneg=0\n",
    "other=0\n",
    "trial=1000\n",
    "count=0\n",
    "while count!=trial:\n",
    "    count+=1\n",
    "    randrange = random.randint(1, 99)\n",
    "    if randrange <85:\n",
    "        other +=1\n",
    "    elif 85 <= randrange != 99:\n",
    "        oneg +=1\n",
    "    elif randrange==99:\n",
    "        abneg += 1\n",
    "\n",
    "o=(oneg/trial)*100\n",
    "ab=(abneg/trial)*100\n",
    "o+ab"
   ]
  },
  {
   "cell_type": "code",
   "execution_count": null,
   "id": "dcac2acc",
   "metadata": {},
   "outputs": [],
   "source": []
  },
  {
   "cell_type": "code",
   "execution_count": null,
   "id": "094a5446",
   "metadata": {},
   "outputs": [],
   "source": []
  }
 ],
 "metadata": {
  "kernelspec": {
   "display_name": "Python 3 (ipykernel)",
   "language": "python",
   "name": "python3"
  },
  "language_info": {
   "codemirror_mode": {
    "name": "ipython",
    "version": 3
   },
   "file_extension": ".py",
   "mimetype": "text/x-python",
   "name": "python",
   "nbconvert_exporter": "python",
   "pygments_lexer": "ipython3",
   "version": "3.9.13"
  }
 },
 "nbformat": 4,
 "nbformat_minor": 5
}

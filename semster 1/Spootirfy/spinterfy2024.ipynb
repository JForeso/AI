{
 "cells": [
  {
   "cell_type": "code",
   "execution_count": 1,
   "id": "f904cf82",
   "metadata": {},
   "outputs": [],
   "source": [
    "import pandas as pd\n",
    "import seaborn as sns"
   ]
  },
  {
   "cell_type": "code",
   "execution_count": 16,
   "id": "a0023762",
   "metadata": {},
   "outputs": [],
   "source": [
    "df= pd.read_csv(\"spotify2024.csv\", encoding='iso-8859-1')\n",
    "df[\"YouTube Views\"] = df[\"YouTube Views\"].str.replace(',', '')\n",
    "df[\"YouTube Views\"] = pd.to_numeric(df[\"YouTube Views\"], errors=\"coerce\")\n",
    "type(df.loc[0][\"YouTube Views\"])\n",
    "df[\"Shazam Counts\"] = df[\"Shazam Counts\"].str.replace(',', '')\n",
    "df[\"Shazam Counts\"] = pd.to_numeric(df[\"Shazam Counts\"], errors=\"coerce\")\n",
    "df[\"All Time Rank\"] = df[\"All Time Rank\"].str.replace(',', '')\n",
    "df[\"All Time Rank\"] = pd.to_numeric(df[\"All Time Rank\"], errors=\"coerce\")\n",
    "df[\"Soundcloud Streams\"] = df[\"Soundcloud Streams\"].str.replace(',', '')\n",
    "df[\"Soundcloud Streams\"] = pd.to_numeric(df[\"Soundcloud Streams\"], errors=\"coerce\")\n",
    "df[\"TikTok Likes\"] = df[\"TikTok Likes\"].str.replace(',', '')\n",
    "df[\"TikTok Likes\"] = pd.to_numeric(df[\"TikTok Likes\"], errors=\"coerce\")\n",
    "df[\"TikTok Views\"] = df[\"TikTok Views\"].str.replace(',', '')\n",
    "df[\"TikTok Views\"] = pd.to_numeric(df[\"TikTok Views\"], errors=\"coerce\")"
   ]
  },
  {
   "cell_type": "code",
   "execution_count": 3,
   "id": "a92543b1",
   "metadata": {},
   "outputs": [
    {
     "data": {
      "text/html": [
       "<div>\n",
       "<style scoped>\n",
       "    .dataframe tbody tr th:only-of-type {\n",
       "        vertical-align: middle;\n",
       "    }\n",
       "\n",
       "    .dataframe tbody tr th {\n",
       "        vertical-align: top;\n",
       "    }\n",
       "\n",
       "    .dataframe thead th {\n",
       "        text-align: right;\n",
       "    }\n",
       "</style>\n",
       "<table border=\"1\" class=\"dataframe\">\n",
       "  <thead>\n",
       "    <tr style=\"text-align: right;\">\n",
       "      <th></th>\n",
       "      <th>Track</th>\n",
       "      <th>Album Name</th>\n",
       "      <th>Artist</th>\n",
       "      <th>Release Date</th>\n",
       "      <th>ISRC</th>\n",
       "      <th>All Time Rank</th>\n",
       "      <th>Track Score</th>\n",
       "      <th>Spotify Streams</th>\n",
       "      <th>Spotify Playlist Count</th>\n",
       "      <th>Spotify Playlist Reach</th>\n",
       "      <th>...</th>\n",
       "      <th>SiriusXM Spins</th>\n",
       "      <th>Deezer Playlist Count</th>\n",
       "      <th>Deezer Playlist Reach</th>\n",
       "      <th>Amazon Playlist Count</th>\n",
       "      <th>Pandora Streams</th>\n",
       "      <th>Pandora Track Stations</th>\n",
       "      <th>Soundcloud Streams</th>\n",
       "      <th>Shazam Counts</th>\n",
       "      <th>TIDAL Popularity</th>\n",
       "      <th>Explicit Track</th>\n",
       "    </tr>\n",
       "  </thead>\n",
       "  <tbody>\n",
       "    <tr>\n",
       "      <th>0</th>\n",
       "      <td>MILLION DOLLAR BABY</td>\n",
       "      <td>Million Dollar Baby - Single</td>\n",
       "      <td>Tommy Richman</td>\n",
       "      <td>4/26/2024</td>\n",
       "      <td>QM24S2402528</td>\n",
       "      <td>1</td>\n",
       "      <td>725.4</td>\n",
       "      <td>390,470,936</td>\n",
       "      <td>30,716</td>\n",
       "      <td>196,631,588</td>\n",
       "      <td>...</td>\n",
       "      <td>684</td>\n",
       "      <td>62.0</td>\n",
       "      <td>17,598,718</td>\n",
       "      <td>114.0</td>\n",
       "      <td>18,004,655</td>\n",
       "      <td>22,931</td>\n",
       "      <td>4818457.0</td>\n",
       "      <td>2669262.0</td>\n",
       "      <td>NaN</td>\n",
       "      <td>0</td>\n",
       "    </tr>\n",
       "    <tr>\n",
       "      <th>1</th>\n",
       "      <td>Not Like Us</td>\n",
       "      <td>Not Like Us</td>\n",
       "      <td>Kendrick Lamar</td>\n",
       "      <td>5/4/2024</td>\n",
       "      <td>USUG12400910</td>\n",
       "      <td>2</td>\n",
       "      <td>545.9</td>\n",
       "      <td>323,703,884</td>\n",
       "      <td>28,113</td>\n",
       "      <td>174,597,137</td>\n",
       "      <td>...</td>\n",
       "      <td>3</td>\n",
       "      <td>67.0</td>\n",
       "      <td>10,422,430</td>\n",
       "      <td>111.0</td>\n",
       "      <td>7,780,028</td>\n",
       "      <td>28,444</td>\n",
       "      <td>6623075.0</td>\n",
       "      <td>1118279.0</td>\n",
       "      <td>NaN</td>\n",
       "      <td>1</td>\n",
       "    </tr>\n",
       "    <tr>\n",
       "      <th>2</th>\n",
       "      <td>i like the way you kiss me</td>\n",
       "      <td>I like the way you kiss me</td>\n",
       "      <td>Artemas</td>\n",
       "      <td>3/19/2024</td>\n",
       "      <td>QZJ842400387</td>\n",
       "      <td>3</td>\n",
       "      <td>538.4</td>\n",
       "      <td>601,309,283</td>\n",
       "      <td>54,331</td>\n",
       "      <td>211,607,669</td>\n",
       "      <td>...</td>\n",
       "      <td>536</td>\n",
       "      <td>136.0</td>\n",
       "      <td>36,321,847</td>\n",
       "      <td>172.0</td>\n",
       "      <td>5,022,621</td>\n",
       "      <td>5,639</td>\n",
       "      <td>7208651.0</td>\n",
       "      <td>5285340.0</td>\n",
       "      <td>NaN</td>\n",
       "      <td>0</td>\n",
       "    </tr>\n",
       "    <tr>\n",
       "      <th>3</th>\n",
       "      <td>Flowers</td>\n",
       "      <td>Flowers - Single</td>\n",
       "      <td>Miley Cyrus</td>\n",
       "      <td>1/12/2023</td>\n",
       "      <td>USSM12209777</td>\n",
       "      <td>4</td>\n",
       "      <td>444.9</td>\n",
       "      <td>2,031,280,633</td>\n",
       "      <td>269,802</td>\n",
       "      <td>136,569,078</td>\n",
       "      <td>...</td>\n",
       "      <td>2,182</td>\n",
       "      <td>264.0</td>\n",
       "      <td>24,684,248</td>\n",
       "      <td>210.0</td>\n",
       "      <td>190,260,277</td>\n",
       "      <td>203,384</td>\n",
       "      <td>NaN</td>\n",
       "      <td>11822942.0</td>\n",
       "      <td>NaN</td>\n",
       "      <td>0</td>\n",
       "    </tr>\n",
       "    <tr>\n",
       "      <th>4</th>\n",
       "      <td>Houdini</td>\n",
       "      <td>Houdini</td>\n",
       "      <td>Eminem</td>\n",
       "      <td>5/31/2024</td>\n",
       "      <td>USUG12403398</td>\n",
       "      <td>5</td>\n",
       "      <td>423.3</td>\n",
       "      <td>107,034,922</td>\n",
       "      <td>7,223</td>\n",
       "      <td>151,469,874</td>\n",
       "      <td>...</td>\n",
       "      <td>1</td>\n",
       "      <td>82.0</td>\n",
       "      <td>17,660,624</td>\n",
       "      <td>105.0</td>\n",
       "      <td>4,493,884</td>\n",
       "      <td>7,006</td>\n",
       "      <td>207179.0</td>\n",
       "      <td>457017.0</td>\n",
       "      <td>NaN</td>\n",
       "      <td>1</td>\n",
       "    </tr>\n",
       "    <tr>\n",
       "      <th>...</th>\n",
       "      <td>...</td>\n",
       "      <td>...</td>\n",
       "      <td>...</td>\n",
       "      <td>...</td>\n",
       "      <td>...</td>\n",
       "      <td>...</td>\n",
       "      <td>...</td>\n",
       "      <td>...</td>\n",
       "      <td>...</td>\n",
       "      <td>...</td>\n",
       "      <td>...</td>\n",
       "      <td>...</td>\n",
       "      <td>...</td>\n",
       "      <td>...</td>\n",
       "      <td>...</td>\n",
       "      <td>...</td>\n",
       "      <td>...</td>\n",
       "      <td>...</td>\n",
       "      <td>...</td>\n",
       "      <td>...</td>\n",
       "      <td>...</td>\n",
       "    </tr>\n",
       "    <tr>\n",
       "      <th>4595</th>\n",
       "      <td>For the Last Time</td>\n",
       "      <td>For the Last Time</td>\n",
       "      <td>$uicideboy$</td>\n",
       "      <td>9/5/2017</td>\n",
       "      <td>QM8DG1703420</td>\n",
       "      <td>4585</td>\n",
       "      <td>19.4</td>\n",
       "      <td>305,049,963</td>\n",
       "      <td>65,770</td>\n",
       "      <td>5,103,054</td>\n",
       "      <td>...</td>\n",
       "      <td>NaN</td>\n",
       "      <td>2.0</td>\n",
       "      <td>14,217</td>\n",
       "      <td>NaN</td>\n",
       "      <td>20,104,066</td>\n",
       "      <td>13,184</td>\n",
       "      <td>50633006.0</td>\n",
       "      <td>656337.0</td>\n",
       "      <td>NaN</td>\n",
       "      <td>1</td>\n",
       "    </tr>\n",
       "    <tr>\n",
       "      <th>4596</th>\n",
       "      <td>Dil Meri Na Sune</td>\n",
       "      <td>Dil Meri Na Sune (From \"Genius\")</td>\n",
       "      <td>Atif Aslam</td>\n",
       "      <td>7/27/2018</td>\n",
       "      <td>INT101800122</td>\n",
       "      <td>4575</td>\n",
       "      <td>19.4</td>\n",
       "      <td>52,282,360</td>\n",
       "      <td>4,602</td>\n",
       "      <td>1,449,767</td>\n",
       "      <td>...</td>\n",
       "      <td>NaN</td>\n",
       "      <td>1.0</td>\n",
       "      <td>927</td>\n",
       "      <td>NaN</td>\n",
       "      <td>NaN</td>\n",
       "      <td>NaN</td>\n",
       "      <td>NaN</td>\n",
       "      <td>193590.0</td>\n",
       "      <td>NaN</td>\n",
       "      <td>0</td>\n",
       "    </tr>\n",
       "    <tr>\n",
       "      <th>4597</th>\n",
       "      <td>Grace (feat. 42 Dugg)</td>\n",
       "      <td>My Turn</td>\n",
       "      <td>Lil Baby</td>\n",
       "      <td>2/28/2020</td>\n",
       "      <td>USUG12000043</td>\n",
       "      <td>4571</td>\n",
       "      <td>19.4</td>\n",
       "      <td>189,972,685</td>\n",
       "      <td>72,066</td>\n",
       "      <td>6,704,802</td>\n",
       "      <td>...</td>\n",
       "      <td>NaN</td>\n",
       "      <td>1.0</td>\n",
       "      <td>74</td>\n",
       "      <td>6.0</td>\n",
       "      <td>84,426,740</td>\n",
       "      <td>28,999</td>\n",
       "      <td>NaN</td>\n",
       "      <td>1135998.0</td>\n",
       "      <td>NaN</td>\n",
       "      <td>1</td>\n",
       "    </tr>\n",
       "    <tr>\n",
       "      <th>4598</th>\n",
       "      <td>Nashe Si Chadh Gayi</td>\n",
       "      <td>November Top 10 Songs</td>\n",
       "      <td>Arijit Singh</td>\n",
       "      <td>11/8/2016</td>\n",
       "      <td>INY091600067</td>\n",
       "      <td>4591</td>\n",
       "      <td>19.4</td>\n",
       "      <td>145,467,020</td>\n",
       "      <td>14,037</td>\n",
       "      <td>7,387,064</td>\n",
       "      <td>...</td>\n",
       "      <td>NaN</td>\n",
       "      <td>NaN</td>\n",
       "      <td>NaN</td>\n",
       "      <td>7.0</td>\n",
       "      <td>6,817,840</td>\n",
       "      <td>NaN</td>\n",
       "      <td>NaN</td>\n",
       "      <td>448292.0</td>\n",
       "      <td>NaN</td>\n",
       "      <td>0</td>\n",
       "    </tr>\n",
       "    <tr>\n",
       "      <th>4599</th>\n",
       "      <td>Me Acostumbre (feat. Bad Bunny)</td>\n",
       "      <td>Me Acostumbre (feat. Bad Bunny)</td>\n",
       "      <td>Arcï¿½ï¿½</td>\n",
       "      <td>4/11/2017</td>\n",
       "      <td>USB271700107</td>\n",
       "      <td>4593</td>\n",
       "      <td>19.4</td>\n",
       "      <td>255,740,653</td>\n",
       "      <td>32,138</td>\n",
       "      <td>14,066,526</td>\n",
       "      <td>...</td>\n",
       "      <td>NaN</td>\n",
       "      <td>4.0</td>\n",
       "      <td>127,479</td>\n",
       "      <td>4.0</td>\n",
       "      <td>69,006,739</td>\n",
       "      <td>11,320</td>\n",
       "      <td>NaN</td>\n",
       "      <td>767006.0</td>\n",
       "      <td>NaN</td>\n",
       "      <td>1</td>\n",
       "    </tr>\n",
       "  </tbody>\n",
       "</table>\n",
       "<p>4600 rows × 29 columns</p>\n",
       "</div>"
      ],
      "text/plain": [
       "                                Track                        Album Name  \\\n",
       "0                 MILLION DOLLAR BABY      Million Dollar Baby - Single   \n",
       "1                         Not Like Us                       Not Like Us   \n",
       "2          i like the way you kiss me        I like the way you kiss me   \n",
       "3                             Flowers                  Flowers - Single   \n",
       "4                             Houdini                           Houdini   \n",
       "...                               ...                               ...   \n",
       "4595                For the Last Time                 For the Last Time   \n",
       "4596                 Dil Meri Na Sune  Dil Meri Na Sune (From \"Genius\")   \n",
       "4597            Grace (feat. 42 Dugg)                           My Turn   \n",
       "4598              Nashe Si Chadh Gayi             November Top 10 Songs   \n",
       "4599  Me Acostumbre (feat. Bad Bunny)   Me Acostumbre (feat. Bad Bunny)   \n",
       "\n",
       "              Artist Release Date          ISRC  All Time Rank  Track Score  \\\n",
       "0      Tommy Richman    4/26/2024  QM24S2402528              1        725.4   \n",
       "1     Kendrick Lamar     5/4/2024  USUG12400910              2        545.9   \n",
       "2            Artemas    3/19/2024  QZJ842400387              3        538.4   \n",
       "3        Miley Cyrus    1/12/2023  USSM12209777              4        444.9   \n",
       "4             Eminem    5/31/2024  USUG12403398              5        423.3   \n",
       "...              ...          ...           ...            ...          ...   \n",
       "4595     $uicideboy$     9/5/2017  QM8DG1703420           4585         19.4   \n",
       "4596      Atif Aslam    7/27/2018  INT101800122           4575         19.4   \n",
       "4597        Lil Baby    2/28/2020  USUG12000043           4571         19.4   \n",
       "4598    Arijit Singh    11/8/2016  INY091600067           4591         19.4   \n",
       "4599       Arcï¿½ï¿½    4/11/2017  USB271700107           4593         19.4   \n",
       "\n",
       "     Spotify Streams Spotify Playlist Count Spotify Playlist Reach  ...  \\\n",
       "0        390,470,936                 30,716            196,631,588  ...   \n",
       "1        323,703,884                 28,113            174,597,137  ...   \n",
       "2        601,309,283                 54,331            211,607,669  ...   \n",
       "3      2,031,280,633                269,802            136,569,078  ...   \n",
       "4        107,034,922                  7,223            151,469,874  ...   \n",
       "...              ...                    ...                    ...  ...   \n",
       "4595     305,049,963                 65,770              5,103,054  ...   \n",
       "4596      52,282,360                  4,602              1,449,767  ...   \n",
       "4597     189,972,685                 72,066              6,704,802  ...   \n",
       "4598     145,467,020                 14,037              7,387,064  ...   \n",
       "4599     255,740,653                 32,138             14,066,526  ...   \n",
       "\n",
       "      SiriusXM Spins  Deezer Playlist Count Deezer Playlist Reach  \\\n",
       "0                684                   62.0            17,598,718   \n",
       "1                  3                   67.0            10,422,430   \n",
       "2                536                  136.0            36,321,847   \n",
       "3              2,182                  264.0            24,684,248   \n",
       "4                  1                   82.0            17,660,624   \n",
       "...              ...                    ...                   ...   \n",
       "4595             NaN                    2.0                14,217   \n",
       "4596             NaN                    1.0                   927   \n",
       "4597             NaN                    1.0                    74   \n",
       "4598             NaN                    NaN                   NaN   \n",
       "4599             NaN                    4.0               127,479   \n",
       "\n",
       "     Amazon Playlist Count Pandora Streams Pandora Track Stations  \\\n",
       "0                    114.0      18,004,655                 22,931   \n",
       "1                    111.0       7,780,028                 28,444   \n",
       "2                    172.0       5,022,621                  5,639   \n",
       "3                    210.0     190,260,277                203,384   \n",
       "4                    105.0       4,493,884                  7,006   \n",
       "...                    ...             ...                    ...   \n",
       "4595                   NaN      20,104,066                 13,184   \n",
       "4596                   NaN             NaN                    NaN   \n",
       "4597                   6.0      84,426,740                 28,999   \n",
       "4598                   7.0       6,817,840                    NaN   \n",
       "4599                   4.0      69,006,739                 11,320   \n",
       "\n",
       "     Soundcloud Streams  Shazam Counts TIDAL Popularity Explicit Track  \n",
       "0             4818457.0      2669262.0              NaN              0  \n",
       "1             6623075.0      1118279.0              NaN              1  \n",
       "2             7208651.0      5285340.0              NaN              0  \n",
       "3                   NaN     11822942.0              NaN              0  \n",
       "4              207179.0       457017.0              NaN              1  \n",
       "...                 ...            ...              ...            ...  \n",
       "4595         50633006.0       656337.0              NaN              1  \n",
       "4596                NaN       193590.0              NaN              0  \n",
       "4597                NaN      1135998.0              NaN              1  \n",
       "4598                NaN       448292.0              NaN              0  \n",
       "4599                NaN       767006.0              NaN              1  \n",
       "\n",
       "[4600 rows x 29 columns]"
      ]
     },
     "execution_count": 3,
     "metadata": {},
     "output_type": "execute_result"
    }
   ],
   "source": [
    "df"
   ]
  },
  {
   "cell_type": "code",
   "execution_count": null,
   "id": "d40bd0f3",
   "metadata": {
    "scrolled": true
   },
   "outputs": [],
   "source": []
  },
  {
   "cell_type": "code",
   "execution_count": 4,
   "id": "e0b75af4",
   "metadata": {},
   "outputs": [
    {
     "data": {
      "text/plain": [
       "Track                          Miles On It\n",
       "Album Name                     Miles on It\n",
       "Artist                          Marshmello\n",
       "Release Date                      5/3/2024\n",
       "ISRC                          QZZVQ2400059\n",
       "All Time Rank                          992\n",
       "Track Score                           48.2\n",
       "Spotify Streams                 41,924,126\n",
       "Spotify Playlist Count               3,794\n",
       "Spotify Playlist Reach         124,369,916\n",
       "Spotify Popularity                    79.0\n",
       "YouTube Views                    4219901.0\n",
       "YouTube Likes                      103,922\n",
       "TikTok Posts                           NaN\n",
       "TikTok Likes                           NaN\n",
       "TikTok Views                           NaN\n",
       "YouTube Playlist Reach         237,146,592\n",
       "Apple Music Playlist Count            87.0\n",
       "AirPlay Spins                        4,032\n",
       "SiriusXM Spins                          33\n",
       "Deezer Playlist Count                 51.0\n",
       "Deezer Playlist Reach            8,224,597\n",
       "Amazon Playlist Count                 91.0\n",
       "Pandora Streams                  9,227,545\n",
       "Pandora Track Stations               2,729\n",
       "Soundcloud Streams                239024.0\n",
       "Shazam Counts                     189286.0\n",
       "TIDAL Popularity                       NaN\n",
       "Explicit Track                           0\n",
       "Name: 998, dtype: object"
      ]
     },
     "execution_count": 4,
     "metadata": {},
     "output_type": "execute_result"
    }
   ],
   "source": [
    "df.iloc[998]"
   ]
  },
  {
   "cell_type": "code",
   "execution_count": 5,
   "id": "64c79c99",
   "metadata": {},
   "outputs": [
    {
     "ename": "SyntaxError",
     "evalue": "invalid syntax (1885000737.py, line 3)",
     "output_type": "error",
     "traceback": [
      "\u001b[1;36m  File \u001b[1;32m\"C:\\Users\\jforesoii\\AppData\\Local\\Temp\\ipykernel_5116\\1885000737.py\"\u001b[1;36m, line \u001b[1;32m3\u001b[0m\n\u001b[1;33m    \"count\":[]\u001b[0m\n\u001b[1;37m    ^\u001b[0m\n\u001b[1;31mSyntaxError\u001b[0m\u001b[1;31m:\u001b[0m invalid syntax\n"
     ]
    }
   ],
   "source": [
    "dates={\n",
    "    \"months\": []\n",
    "    \"count\":[]\n",
    "}\n",
    "dates=pd.DataFrame(dates)\n",
    "sns.barplot(data=dates, x=\"months\", y=\"count\")"
   ]
  },
  {
   "cell_type": "code",
   "execution_count": null,
   "id": "a53c76a0",
   "metadata": {},
   "outputs": [],
   "source": [
    "\n",
    "sns.histplot(df['Spotify Streams'], bins=4, kde=True)"
   ]
  },
  {
   "cell_type": "code",
   "execution_count": null,
   "id": "0a263a59",
   "metadata": {},
   "outputs": [],
   "source": [
    "sns.histplot(data=df, x=\"YouTube Views\",  bins='auto')"
   ]
  },
  {
   "cell_type": "code",
   "execution_count": null,
   "id": "ceef3bd5",
   "metadata": {},
   "outputs": [],
   "source": [
    "months = {\"Jan\": 0, \"Feb\": 0, \"Mar\": 0, \"Apr\": 0, \"May\": 0, \"Jun\": 0, \n",
    "         \"Jul\": 0, \"Aug\": 0, \"Sep\": 0, \"Oct\": 0, \"Nov\": 0, \"Dec\": 0}\n",
    "for date in df[\"Release Date\"]:\n",
    "    month = date.split(\"/\")[0]\n",
    "    if month == \"1\":\n",
    "        months[\"Jan\"] += 1\n",
    "    elif month == \"2\":\n",
    "        months[\"Feb\"] += 1\n",
    "    elif month == \"3\":\n",
    "        months[\"Mar\"] += 1\n",
    "    elif month == \"4\":\n",
    "        months[\"Apr\"] += 1\n",
    "    elif month == \"5\":\n",
    "        months['May'] += 1\n",
    "    elif month == \"6\":\n",
    "        months[\"Jun\"] += 1\n",
    "    elif month == \"7\":\n",
    "        months[\"Jul\"] += 1\n",
    "    elif month == \"8\":\n",
    "        months[\"Aug\"] += 1\n",
    "    elif month == \"9\":\n",
    "        months[\"Sep\"] += 1\n",
    "    elif month == \"10\":\n",
    "        months[\"Oct\"] += 1\n",
    "    elif month == \"11\":\n",
    "        months[\"Nov\"] += 1\n",
    "    elif month == \"12\":\n",
    "        months[\"Dec\"] += 1\n",
    "months"
   ]
  },
  {
   "cell_type": "code",
   "execution_count": null,
   "id": "5bb4f3d7",
   "metadata": {},
   "outputs": [],
   "source": [
    "type(df.loc[0][\"All Time Rank\"])"
   ]
  },
  {
   "cell_type": "code",
   "execution_count": 6,
   "id": "d93d6ef4",
   "metadata": {
    "scrolled": false
   },
   "outputs": [
    {
     "data": {
      "text/plain": [
       "<AxesSubplot:xlabel='Shazam Counts', ylabel='Count'>"
      ]
     },
     "execution_count": 6,
     "metadata": {},
     "output_type": "execute_result"
    },
    {
     "data": {
      "image/png": "[encoded data removed]",
      "text/plain": [
       "<Figure size 640x480 with 1 Axes>"
      ]
     },
     "metadata": {},
     "output_type": "display_data"
    }
   ],
   "source": [
    "sns.histplot(data=df, x=\"Shazam Counts\", bins='auto')"
   ]
  },
  {
   "cell_type": "code",
   "execution_count": 7,
   "id": "3cb244bd",
   "metadata": {},
   "outputs": [
    {
     "data": {
      "text/plain": [
       "<AxesSubplot:xlabel='All Time Rank', ylabel='Count'>"
      ]
     },
     "execution_count": 7,
     "metadata": {},
     "output_type": "execute_result"
    },
    {
     "data": {
      "image/png": "[encoded data removed]",
      "text/plain": [
       "<Figure size 640x480 with 1 Axes>"
      ]
     },
     "metadata": {},
     "output_type": "display_data"
    }
   ],
   "source": [
    "sns.histplot(data=df, x=\"All Time Rank\", bins=18,kde=True)"
   ]
  },
  {
   "cell_type": "code",
   "execution_count": 8,
   "id": "1b36b9a9",
   "metadata": {},
   "outputs": [
    {
     "data": {
      "text/plain": [
       "numpy.float64"
      ]
     },
     "execution_count": 8,
     "metadata": {},
     "output_type": "execute_result"
    }
   ],
   "source": [
    "type(df.loc[0][\"Soundcloud Streams\"])"
   ]
  },
  {
   "cell_type": "code",
   "execution_count": 9,
   "id": "a218c69d",
   "metadata": {},
   "outputs": [
    {
     "data": {
      "text/plain": [
       "<AxesSubplot:xlabel='Soundcloud Streams', ylabel='Count'>"
      ]
     },
     "execution_count": 9,
     "metadata": {},
     "output_type": "execute_result"
    },
    {
     "data": {
      "image/png": "[encoded data removed]",
      "text/plain": [
       "<Figure size 640x480 with 1 Axes>"
      ]
     },
     "metadata": {},
     "output_type": "display_data"
    }
   ],
   "source": [
    "sns.histplot(data=df, x=\"Soundcloud Streams\", bins='auto')"
   ]
  },
  {
   "cell_type": "code",
   "execution_count": 15,
   "id": "05300c8f",
   "metadata": {},
   "outputs": [
    {
     "data": {
      "text/plain": [
       "23474223833.0"
      ]
     },
     "execution_count": 15,
     "metadata": {},
     "output_type": "execute_result"
    }
   ],
   "source": [
    "df['TikTok Likes'].max()"
   ]
  },
  {
   "cell_type": "code",
   "execution_count": 18,
   "id": "038a49cc",
   "metadata": {},
   "outputs": [
    {
     "data": {
      "text/plain": [
       "59027855.5"
      ]
     },
     "execution_count": 18,
     "metadata": {},
     "output_type": "execute_result"
    }
   ],
   "source": [
    "df['TikTok Views'].quantile(0.75)\n",
    "df['TikTok Views'].quantile(0.25)"
   ]
  },
  {
   "cell_type": "code",
   "execution_count": 34,
   "id": "67e5e0d2",
   "metadata": {},
   "outputs": [
    {
     "name": "stderr",
     "output_type": "stream",
     "text": [
      "No artists with labels found to put in legend.  Note that artists whose label start with an underscore are ignored when legend() is called with no argument.\n"
     ]
    },
    {
     "data": {
      "text/plain": [
       "<matplotlib.legend.Legend at 0x23070f4b760>"
      ]
     },
     "execution_count": 34,
     "metadata": {},
     "output_type": "execute_result"
    },
    {
     "data": {
      "image/png": "[encoded data removed]",
      "text/plain": [
       "<Figure size 640x480 with 1 Axes>"
      ]
     },
     "metadata": {},
     "output_type": "display_data"
    }
   ],
   "source": [
    "\n",
    "sns.boxplot(data=df, x=\"TikTok Views\").legend(title='thing')\n"
   ]
  },
  {
   "cell_type": "code",
   "execution_count": 37,
   "id": "8569a0d4",
   "metadata": {},
   "outputs": [
    {
     "data": {
      "text/plain": [
       "{'max': 233232311463.0,\n",
       " 'q3': 913416942.0,\n",
       " 'q1': 59027855.5,\n",
       " 'min': 19.0,\n",
       " 'med': 265917250.0}"
      ]
     },
     "execution_count": 37,
     "metadata": {},
     "output_type": "execute_result"
    }
   ],
   "source": [
    "summary={\n",
    "    'max': df['TikTok Views'].max(),\n",
    "    'q3': df['TikTok Views'].quantile(0.75),\n",
    "    'q1': df['TikTok Views'].quantile(0.25),\n",
    "    'min': df['TikTok Views'].min(),\n",
    "    'med': df['TikTok Views'].median()\n",
    "}\n",
    "summary"
   ]
  },
  {
   "cell_type": "markdown",
   "id": "e4441c9b",
   "metadata": {},
   "source": [
    "## *Tiktok views* \n",
    " the distrubution of tiktok veiws is spread out the max value is 233232311463.0 the min value is 19 the median is 265917250 the shape of the distrubution is skewed not symmetric"
   ]
  },
  {
   "cell_type": "code",
   "execution_count": null,
   "id": "9419d1b7",
   "metadata": {},
   "outputs": [],
   "source": []
  }
 ],
 "metadata": {
  "kernelspec": {
   "display_name": "Python 3 (ipykernel)",
   "language": "python",
   "name": "python3"
  },
  "language_info": {
   "codemirror_mode": {
    "name": "ipython",
    "version": 3
   },
   "file_extension": ".py",
   "mimetype": "text/x-python",
   "name": "python",
   "nbconvert_exporter": "python",
   "pygments_lexer": "ipython3",
   "version": "3.9.13"
  }
 },
 "nbformat": 4,
 "nbformat_minor": 5
}

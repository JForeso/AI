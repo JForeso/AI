{
 "cells": [
  {
   "cell_type": "markdown",
   "id": "e17f54ed",
   "metadata": {},
   "source": [
    "## what gen 1 starter final evolution is the best ##"
   ]
  },
  {
   "cell_type": "code",
   "execution_count": 1,
   "id": "27044ac9",
   "metadata": {},
   "outputs": [],
   "source": [
    "import pandas as pd\n",
    "import seaborn as sns\n"
   ]
  },
  {
   "cell_type": "code",
   "execution_count": 2,
   "id": "92c3c98a",
   "metadata": {},
   "outputs": [],
   "source": [
    "df = pd.read_csv(\"pokemon.csv\")"
   ]
  },
  {
   "cell_type": "code",
   "execution_count": 5,
   "id": "4b2d8b44",
   "metadata": {},
   "outputs": [
    {
     "name": "stdout",
     "output_type": "stream",
     "text": [
      "<class 'pandas.core.frame.DataFrame'>\n",
      "RangeIndex: 800 entries, 0 to 799\n",
      "Data columns (total 13 columns):\n",
      " #   Column      Non-Null Count  Dtype \n",
      "---  ------      --------------  ----- \n",
      " 0   #           800 non-null    int64 \n",
      " 1   Name        800 non-null    object\n",
      " 2   Type 1      800 non-null    object\n",
      " 3   Type 2      414 non-null    object\n",
      " 4   Total       800 non-null    int64 \n",
      " 5   HP          800 non-null    int64 \n",
      " 6   Attack      800 non-null    int64 \n",
      " 7   Defense     800 non-null    int64 \n",
      " 8   Sp. Atk     800 non-null    int64 \n",
      " 9   Sp. Def     800 non-null    int64 \n",
      " 10  Speed       800 non-null    int64 \n",
      " 11  Generation  800 non-null    int64 \n",
      " 12  Legendary   800 non-null    bool  \n",
      "dtypes: bool(1), int64(9), object(3)\n",
      "memory usage: 75.9+ KB\n"
     ]
    }
   ],
   "source": [
    "df.info()"
   ]
  },
  {
   "cell_type": "code",
   "execution_count": 8,
   "id": "44f92216",
   "metadata": {
    "scrolled": true
   },
   "outputs": [
    {
     "data": {
      "text/plain": [
       "#                     6\n",
       "Name          Charizard\n",
       "Type 1             Fire\n",
       "Type 2           Flying\n",
       "Total               534\n",
       "HP                   78\n",
       "Attack               84\n",
       "Defense              78\n",
       "Sp. Atk             109\n",
       "Sp. Def              85\n",
       "Speed               100\n",
       "Generation            1\n",
       "Legendary         False\n",
       "Name: 6, dtype: object"
      ]
     },
     "execution_count": 8,
     "metadata": {},
     "output_type": "execute_result"
    }
   ],
   "source": [
    "df.loc[6]"
   ]
  },
  {
   "cell_type": "code",
   "execution_count": 13,
   "id": "6eca3fb6",
   "metadata": {},
   "outputs": [
    {
     "data": {
      "text/plain": [
       "#                    3\n",
       "Name          Venusaur\n",
       "Type 1           Grass\n",
       "Type 2          Poison\n",
       "Total              525\n",
       "HP                  80\n",
       "Attack              82\n",
       "Defense             83\n",
       "Sp. Atk            100\n",
       "Sp. Def            100\n",
       "Speed               80\n",
       "Generation           1\n",
       "Legendary        False\n",
       "Name: 2, dtype: object"
      ]
     },
     "execution_count": 13,
     "metadata": {},
     "output_type": "execute_result"
    }
   ],
   "source": [
    "df.loc[2]"
   ]
  },
  {
   "cell_type": "code",
   "execution_count": 15,
   "id": "cb2287f7",
   "metadata": {},
   "outputs": [
    {
     "data": {
      "text/plain": [
       "#                     9\n",
       "Name          Blastoise\n",
       "Type 1            Water\n",
       "Type 2              NaN\n",
       "Total               530\n",
       "HP                   79\n",
       "Attack               83\n",
       "Defense             100\n",
       "Sp. Atk              85\n",
       "Sp. Def             105\n",
       "Speed                78\n",
       "Generation            1\n",
       "Legendary         False\n",
       "Name: 11, dtype: object"
      ]
     },
     "execution_count": 15,
     "metadata": {},
     "output_type": "execute_result"
    }
   ],
   "source": [
    "df.loc[11]"
   ]
  },
  {
   "cell_type": "code",
   "execution_count": 16,
   "id": "9ff145e2",
   "metadata": {},
   "outputs": [
    {
     "data": {
      "text/plain": [
       "{'hp': 25.534669032332047,\n",
       " 'attack': 32.45736586949843,\n",
       " 'def': 31.183500559332927,\n",
       " 'sp.at': 32.72229416880157,\n",
       " 'sp.def': 27.82891579711745,\n",
       " 'speed': 29.06047371716149}"
      ]
     },
     "execution_count": 16,
     "metadata": {},
     "output_type": "execute_result"
    }
   ],
   "source": [
    "std={\n",
    "    \"hp\": df['HP'].std(),\n",
    "    \"attack\": df['Attack'].std(),\n",
    "    \"def\": df['Defense'].std(),\n",
    "    \"sp.at\": df['Sp. Atk'].std(),\n",
    "    \"sp.def\": df['Sp. Def'].std(),\n",
    "    \"speed\": df['Speed'].std(),\n",
    "}\n",
    "std"
   ]
  },
  {
   "cell_type": "code",
   "execution_count": 17,
   "id": "d5182877",
   "metadata": {},
   "outputs": [
    {
     "data": {
      "text/plain": [
       "{'hp': 69.25875,\n",
       " 'attack': 79.00125,\n",
       " 'def': 73.8425,\n",
       " 'sp.at': 72.82,\n",
       " 'sp.def': 71.9025,\n",
       " 'speed': 68.2775}"
      ]
     },
     "execution_count": 17,
     "metadata": {},
     "output_type": "execute_result"
    }
   ],
   "source": [
    "mean={\n",
    "    \"hp\": df['HP'].mean(),\n",
    "    \"attack\": df['Attack'].mean(),\n",
    "    \"def\": df['Defense'].mean(),\n",
    "    \"sp.at\": df['Sp. Atk'].mean(),\n",
    "    \"sp.def\": df['Sp. Def'].mean(),\n",
    "    \"speed\": df['Speed'].mean(),\n",
    "}\n",
    "mean"
   ]
  },
  {
   "cell_type": "code",
   "execution_count": 21,
   "id": "3f4c1384",
   "metadata": {},
   "outputs": [],
   "source": [
    "df['HP_z_score'] = (df['HP'] - df['HP'].mean()) / df['HP'].std()\n",
    "df['Atk_z_score'] = (df['Attack'] - df['Attack'].mean()) / df['Attack'].std()\n",
    "df['Def_z_score'] = (df['Defense'] - df['Defense'].mean()) / df['Defense'].std()\n",
    "df['sp.atk_z_score'] = (df['Sp. Atk'] - df['Sp. Atk'].mean()) / df['Sp. Atk'].std()\n",
    "df['sp.def_z_score'] = (df['Sp. Def'] - df['Sp. Def'].mean()) / df['Sp. Def'].std()\n",
    "df['speed_z_score'] = (df['Speed'] - df['Speed'].mean()) / df['Speed'].std()"
   ]
  },
  {
   "cell_type": "code",
   "execution_count": 23,
   "id": "fffbb1cb",
   "metadata": {},
   "outputs": [
    {
     "data": {
      "text/plain": [
       "#                         6\n",
       "Name              Charizard\n",
       "Type 1                 Fire\n",
       "Type 2               Flying\n",
       "Total                   534\n",
       "HP                       78\n",
       "Attack                   84\n",
       "Defense                  78\n",
       "Sp. Atk                 109\n",
       "Sp. Def                  85\n",
       "Speed                   100\n",
       "Generation                1\n",
       "Legendary             False\n",
       "HP_z_score         0.342329\n",
       "Atk_z_score         0.15401\n",
       "Def_z_score        0.133324\n",
       "sp.atk_z_score     1.105668\n",
       "sp.def_z_score     0.470644\n",
       "speed_z_score      1.091603\n",
       "Name: 6, dtype: object"
      ]
     },
     "execution_count": 23,
     "metadata": {},
     "output_type": "execute_result"
    }
   ],
   "source": [
    "df.loc[6]"
   ]
  },
  {
   "cell_type": "code",
   "execution_count": 24,
   "id": "6c4bf558",
   "metadata": {},
   "outputs": [
    {
     "data": {
      "text/plain": [
       "#                        3\n",
       "Name              Venusaur\n",
       "Type 1               Grass\n",
       "Type 2              Poison\n",
       "Total                  525\n",
       "HP                      80\n",
       "Attack                  82\n",
       "Defense                 83\n",
       "Sp. Atk                100\n",
       "Sp. Def                100\n",
       "Speed                   80\n",
       "Generation               1\n",
       "Legendary            False\n",
       "HP_z_score        0.420654\n",
       "Atk_z_score        0.09239\n",
       "Def_z_score       0.293665\n",
       "sp.atk_z_score    0.830626\n",
       "sp.def_z_score    1.009651\n",
       "speed_z_score     0.403383\n",
       "Name: 2, dtype: object"
      ]
     },
     "execution_count": 24,
     "metadata": {},
     "output_type": "execute_result"
    }
   ],
   "source": [
    "df.loc[2]"
   ]
  },
  {
   "cell_type": "code",
   "execution_count": 25,
   "id": "418e85ef",
   "metadata": {},
   "outputs": [
    {
     "data": {
      "text/plain": [
       "#                         9\n",
       "Name              Blastoise\n",
       "Type 1                Water\n",
       "Type 2                  NaN\n",
       "Total                   530\n",
       "HP                       79\n",
       "Attack                   83\n",
       "Defense                 100\n",
       "Sp. Atk                  85\n",
       "Sp. Def                 105\n",
       "Speed                    78\n",
       "Generation                1\n",
       "Legendary             False\n",
       "HP_z_score         0.381491\n",
       "Atk_z_score          0.1232\n",
       "Def_z_score        0.838825\n",
       "sp.atk_z_score     0.372223\n",
       "sp.def_z_score      1.18932\n",
       "speed_z_score      0.334561\n",
       "Name: 11, dtype: object"
      ]
     },
     "execution_count": 25,
     "metadata": {},
     "output_type": "execute_result"
    }
   ],
   "source": [
    "df.loc[11]"
   ]
  },
  {
   "cell_type": "markdown",
   "id": "1dac523a",
   "metadata": {},
   "source": [
    "## Ans ##\n"
   ]
  },
  {
   "cell_type": "markdown",
   "id": "74c67305",
   "metadata": {},
   "source": [
    "all of the starters stats are over the mean values of all the stats so all of them are at least decent options but i want to see witch one has the most impresive\n",
    "HP_z_score         Venusaur\n",
    "Atk_z_score        Charizard\n",
    "Def_z_score        Blastoise\n",
    "sp.atk_z_score     Charizard\n",
    "sp.def_z_score     Blastoise\n",
    "speed_z_score      Charizard\n",
    "\n",
    "based of z scores Charizard does the best when it comes to attacking and Blastoise when it comes to deffending Charizard has the most impresive z scores with multiple ones over one with speed and sp atk so Charizard and Blastoise are both decent meanwhile Venusaur is vary avarge it only goes high  and health and is very mediocer in everything else based purly of numbers you shouls choose Charizard next time you play red and blue"
   ]
  }
 ],
 "metadata": {
  "kernelspec": {
   "display_name": "Python 3 (ipykernel)",
   "language": "python",
   "name": "python3"
  },
  "language_info": {
   "codemirror_mode": {
    "name": "ipython",
    "version": 3
   },
   "file_extension": ".py",
   "mimetype": "text/x-python",
   "name": "python",
   "nbconvert_exporter": "python",
   "pygments_lexer": "ipython3",
   "version": "3.9.13"
  }
 },
 "nbformat": 4,
 "nbformat_minor": 5
}

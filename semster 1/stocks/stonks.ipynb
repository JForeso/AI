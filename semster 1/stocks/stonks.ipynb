{
 "cells": [
  {
   "cell_type": "code",
   "execution_count": 2,
   "id": "5b51e8a0",
   "metadata": {},
   "outputs": [],
   "source": [
    "import pandas as pd\n",
    "import seaborn as sns"
   ]
  },
  {
   "cell_type": "code",
   "execution_count": 3,
   "id": "a8320bcc",
   "metadata": {},
   "outputs": [],
   "source": [
    "df = pd.read_json('gme.json')"
   ]
  },
  {
   "cell_type": "code",
   "execution_count": 4,
   "id": "daaec4bc",
   "metadata": {},
   "outputs": [
    {
     "data": {
      "text/html": [
       "<div>\n",
       "<style scoped>\n",
       "    .dataframe tbody tr th:only-of-type {\n",
       "        vertical-align: middle;\n",
       "    }\n",
       "\n",
       "    .dataframe tbody tr th {\n",
       "        vertical-align: top;\n",
       "    }\n",
       "\n",
       "    .dataframe thead th {\n",
       "        text-align: right;\n",
       "    }\n",
       "</style>\n",
       "<table border=\"1\" class=\"dataframe\">\n",
       "  <thead>\n",
       "    <tr style=\"text-align: right;\">\n",
       "      <th></th>\n",
       "      <th>Date</th>\n",
       "      <th>Open</th>\n",
       "      <th>High</th>\n",
       "      <th>Low</th>\n",
       "      <th>Close</th>\n",
       "      <th>Adj Close</th>\n",
       "      <th>Volume</th>\n",
       "    </tr>\n",
       "  </thead>\n",
       "  <tbody>\n",
       "    <tr>\n",
       "      <th>0</th>\n",
       "      <td>2002-02-13</td>\n",
       "      <td>2.406250</td>\n",
       "      <td>2.515000</td>\n",
       "      <td>2.381250</td>\n",
       "      <td>2.512500</td>\n",
       "      <td>1.691666</td>\n",
       "      <td>76216000</td>\n",
       "    </tr>\n",
       "    <tr>\n",
       "      <th>1</th>\n",
       "      <td>2002-02-14</td>\n",
       "      <td>2.543750</td>\n",
       "      <td>2.548750</td>\n",
       "      <td>2.481250</td>\n",
       "      <td>2.500000</td>\n",
       "      <td>1.683250</td>\n",
       "      <td>11021600</td>\n",
       "    </tr>\n",
       "    <tr>\n",
       "      <th>2</th>\n",
       "      <td>2002-02-15</td>\n",
       "      <td>2.500000</td>\n",
       "      <td>2.506250</td>\n",
       "      <td>2.462500</td>\n",
       "      <td>2.487500</td>\n",
       "      <td>1.674834</td>\n",
       "      <td>8389600</td>\n",
       "    </tr>\n",
       "    <tr>\n",
       "      <th>3</th>\n",
       "      <td>2002-02-19</td>\n",
       "      <td>2.475000</td>\n",
       "      <td>2.475000</td>\n",
       "      <td>2.343750</td>\n",
       "      <td>2.387500</td>\n",
       "      <td>1.607504</td>\n",
       "      <td>7410400</td>\n",
       "    </tr>\n",
       "    <tr>\n",
       "      <th>4</th>\n",
       "      <td>2002-02-20</td>\n",
       "      <td>2.400000</td>\n",
       "      <td>2.468750</td>\n",
       "      <td>2.381250</td>\n",
       "      <td>2.468750</td>\n",
       "      <td>1.662210</td>\n",
       "      <td>6892800</td>\n",
       "    </tr>\n",
       "    <tr>\n",
       "      <th>...</th>\n",
       "      <td>...</td>\n",
       "      <td>...</td>\n",
       "      <td>...</td>\n",
       "      <td>...</td>\n",
       "      <td>...</td>\n",
       "      <td>...</td>\n",
       "      <td>...</td>\n",
       "    </tr>\n",
       "    <tr>\n",
       "      <th>5595</th>\n",
       "      <td>2024-05-07</td>\n",
       "      <td>15.850000</td>\n",
       "      <td>17.290001</td>\n",
       "      <td>14.930000</td>\n",
       "      <td>16.309999</td>\n",
       "      <td>16.309999</td>\n",
       "      <td>24308600</td>\n",
       "    </tr>\n",
       "    <tr>\n",
       "      <th>5596</th>\n",
       "      <td>2024-05-08</td>\n",
       "      <td>16.049999</td>\n",
       "      <td>17.240000</td>\n",
       "      <td>15.330000</td>\n",
       "      <td>15.920000</td>\n",
       "      <td>15.920000</td>\n",
       "      <td>24775100</td>\n",
       "    </tr>\n",
       "    <tr>\n",
       "      <th>5597</th>\n",
       "      <td>2024-05-09</td>\n",
       "      <td>15.900000</td>\n",
       "      <td>18.510000</td>\n",
       "      <td>15.350000</td>\n",
       "      <td>18.010000</td>\n",
       "      <td>18.010000</td>\n",
       "      <td>25759300</td>\n",
       "    </tr>\n",
       "    <tr>\n",
       "      <th>5598</th>\n",
       "      <td>2024-05-10</td>\n",
       "      <td>17.930000</td>\n",
       "      <td>20.200001</td>\n",
       "      <td>16.879999</td>\n",
       "      <td>17.459999</td>\n",
       "      <td>17.459999</td>\n",
       "      <td>36831900</td>\n",
       "    </tr>\n",
       "    <tr>\n",
       "      <th>5599</th>\n",
       "      <td>2024-05-13</td>\n",
       "      <td>26.340000</td>\n",
       "      <td>38.200001</td>\n",
       "      <td>24.770000</td>\n",
       "      <td>30.450001</td>\n",
       "      <td>30.450001</td>\n",
       "      <td>182308700</td>\n",
       "    </tr>\n",
       "  </tbody>\n",
       "</table>\n",
       "<p>5600 rows × 7 columns</p>\n",
       "</div>"
      ],
      "text/plain": [
       "           Date       Open       High        Low      Close  Adj Close  \\\n",
       "0    2002-02-13   2.406250   2.515000   2.381250   2.512500   1.691666   \n",
       "1    2002-02-14   2.543750   2.548750   2.481250   2.500000   1.683250   \n",
       "2    2002-02-15   2.500000   2.506250   2.462500   2.487500   1.674834   \n",
       "3    2002-02-19   2.475000   2.475000   2.343750   2.387500   1.607504   \n",
       "4    2002-02-20   2.400000   2.468750   2.381250   2.468750   1.662210   \n",
       "...         ...        ...        ...        ...        ...        ...   \n",
       "5595 2024-05-07  15.850000  17.290001  14.930000  16.309999  16.309999   \n",
       "5596 2024-05-08  16.049999  17.240000  15.330000  15.920000  15.920000   \n",
       "5597 2024-05-09  15.900000  18.510000  15.350000  18.010000  18.010000   \n",
       "5598 2024-05-10  17.930000  20.200001  16.879999  17.459999  17.459999   \n",
       "5599 2024-05-13  26.340000  38.200001  24.770000  30.450001  30.450001   \n",
       "\n",
       "         Volume  \n",
       "0      76216000  \n",
       "1      11021600  \n",
       "2       8389600  \n",
       "3       7410400  \n",
       "4       6892800  \n",
       "...         ...  \n",
       "5595   24308600  \n",
       "5596   24775100  \n",
       "5597   25759300  \n",
       "5598   36831900  \n",
       "5599  182308700  \n",
       "\n",
       "[5600 rows x 7 columns]"
      ]
     },
     "execution_count": 4,
     "metadata": {},
     "output_type": "execute_result"
    }
   ],
   "source": [
    "df"
   ]
  },
  {
   "cell_type": "markdown",
   "id": "97cee398",
   "metadata": {},
   "source": [
    "the varibles in this set are the dates the stock market was open the price there were at when it opened the highest the price went to lowest it went the price when it closed and the volume or the amount of stocks sold in a day and adj close witch is the adjusted price of the stock when the market closes "
   ]
  },
  {
   "cell_type": "code",
   "execution_count": 13,
   "id": "cb5b3e84",
   "metadata": {},
   "outputs": [
    {
     "data": {
      "text/html": [
       "<div>\n",
       "<style scoped>\n",
       "    .dataframe tbody tr th:only-of-type {\n",
       "        vertical-align: middle;\n",
       "    }\n",
       "\n",
       "    .dataframe tbody tr th {\n",
       "        vertical-align: top;\n",
       "    }\n",
       "\n",
       "    .dataframe thead th {\n",
       "        text-align: right;\n",
       "    }\n",
       "</style>\n",
       "<table border=\"1\" class=\"dataframe\">\n",
       "  <thead>\n",
       "    <tr style=\"text-align: right;\">\n",
       "      <th></th>\n",
       "      <th>Date</th>\n",
       "      <th>Open</th>\n",
       "      <th>High</th>\n",
       "      <th>Low</th>\n",
       "      <th>Close</th>\n",
       "      <th>Adj Close</th>\n",
       "      <th>Volume</th>\n",
       "    </tr>\n",
       "  </thead>\n",
       "  <tbody>\n",
       "    <tr>\n",
       "      <th>4772</th>\n",
       "      <td>2021-01-28</td>\n",
       "      <td>66.25</td>\n",
       "      <td>120.75</td>\n",
       "      <td>28.0625</td>\n",
       "      <td>48.400002</td>\n",
       "      <td>48.400002</td>\n",
       "      <td>235263200</td>\n",
       "    </tr>\n",
       "  </tbody>\n",
       "</table>\n",
       "</div>"
      ],
      "text/plain": [
       "           Date   Open    High      Low      Close  Adj Close     Volume\n",
       "4772 2021-01-28  66.25  120.75  28.0625  48.400002  48.400002  235263200"
      ]
     },
     "execution_count": 13,
     "metadata": {},
     "output_type": "execute_result"
    }
   ],
   "source": [
    "df[df['High']==df['High'].max()]"
   ]
  },
  {
   "cell_type": "code",
   "execution_count": 7,
   "id": "46253fad",
   "metadata": {},
   "outputs": [
    {
     "name": "stdout",
     "output_type": "stream",
     "text": [
      "<class 'pandas.core.frame.DataFrame'>\n",
      "RangeIndex: 5600 entries, 0 to 5599\n",
      "Data columns (total 7 columns):\n",
      " #   Column     Non-Null Count  Dtype         \n",
      "---  ------     --------------  -----         \n",
      " 0   Date       5600 non-null   datetime64[ns]\n",
      " 1   Open       5600 non-null   float64       \n",
      " 2   High       5600 non-null   float64       \n",
      " 3   Low        5600 non-null   float64       \n",
      " 4   Close      5600 non-null   float64       \n",
      " 5   Adj Close  5600 non-null   float64       \n",
      " 6   Volume     5600 non-null   int64         \n",
      "dtypes: datetime64[ns](1), float64(5), int64(1)\n",
      "memory usage: 306.4 KB\n"
     ]
    }
   ],
   "source": [
    "df.info()"
   ]
  },
  {
   "cell_type": "code",
   "execution_count": 17,
   "id": "c054e69d",
   "metadata": {},
   "outputs": [
    {
     "data": {
      "text/plain": [
       "<AxesSubplot:xlabel='Low', ylabel='Volume'>"
      ]
     },
     "execution_count": 17,
     "metadata": {},
     "output_type": "execute_result"
    },
    {
     "data": {
      "image/png": "[encoded data removed]",
      "text/plain": [
       "<Figure size 640x480 with 1 Axes>"
      ]
     },
     "metadata": {},
     "output_type": "display_data"
    }
   ],
   "source": [
    "sns.scatterplot(data=df, x=df['Low'], y=df['Volume'], )"
   ]
  },
  {
   "cell_type": "markdown",
   "id": "18956468",
   "metadata": {},
   "source": [
    "there is a very very weak correlation with .1"
   ]
  },
  {
   "cell_type": "code",
   "execution_count": 18,
   "id": "aec2f847",
   "metadata": {},
   "outputs": [
    {
     "data": {
      "text/plain": [
       "0.10259646883179026"
      ]
     },
     "execution_count": 18,
     "metadata": {},
     "output_type": "execute_result"
    }
   ],
   "source": [
    "df['Low'].corr(df['Volume'])"
   ]
  },
  {
   "cell_type": "code",
   "execution_count": null,
   "id": "bb426c0d",
   "metadata": {},
   "outputs": [],
   "source": []
  }
 ],
 "metadata": {
  "kernelspec": {
   "display_name": "Python 3 (ipykernel)",
   "language": "python",
   "name": "python3"
  },
  "language_info": {
   "codemirror_mode": {
    "name": "ipython",
    "version": 3
   },
   "file_extension": ".py",
   "mimetype": "text/x-python",
   "name": "python",
   "nbconvert_exporter": "python",
   "pygments_lexer": "ipython3",
   "version": "3.9.13"
  }
 },
 "nbformat": 4,
 "nbformat_minor": 5
}
